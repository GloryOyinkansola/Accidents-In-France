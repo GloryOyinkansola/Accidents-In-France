{
 "cells": [
  {
   "cell_type": "markdown",
   "id": "3ede9dd6",
   "metadata": {},
   "source": [
    "### Importing libraries"
   ]
  },
  {
   "cell_type": "code",
   "execution_count": 1,
   "id": "1eb4f23f",
   "metadata": {},
   "outputs": [],
   "source": [
    "import pandas as pd\n",
    "import seaborn as sns\n",
    "import matplotlib.pyplot as plt"
   ]
  },
  {
   "cell_type": "markdown",
   "id": "d2ac8938",
   "metadata": {},
   "source": [
    "### Renaming columns"
   ]
  },
  {
   "cell_type": "code",
   "execution_count": 2,
   "id": "a4065ac9",
   "metadata": {},
   "outputs": [
    {
     "name": "stderr",
     "output_type": "stream",
     "text": [
      "C:\\Users\\HP\\AppData\\Roaming\\Python\\Python39\\site-packages\\IPython\\core\\interactiveshell.py:3418: DtypeWarning: Columns (14) have mixed types.Specify dtype option on import or set low_memory=False.\n",
      "  exec(code_obj, self.user_global_ns, self.user_ns)\n"
     ]
    }
   ],
   "source": [
    "df = pd.read_csv('caracteristics.csv', encoding='ISO-8859-1')\n",
    "columns = {\"Num_Acc\":\"accident_ID\",\n",
    "          \"an\":\"year\",\n",
    "          \"mois\":\"month\",\n",
    "          \"jour\":\"day\",\n",
    "          \"hrmn\":\"hour_min\",\n",
    "          \"lum\":\"lighting \",\n",
    "          \"agg\":\"agg??\",\n",
    "          \"int\":\"intersection\",\n",
    "          \"atm\":\"atmosphere\",\n",
    "          \"col\":\"collision\",\n",
    "          \"com\":\"municipality\",\n",
    "          \"adr\":\"postal_address\",\n",
    "          \"gps\":\"GPS\",\n",
    "          \"lat\":\"latitude\",\n",
    "          \"long\":\"longitude\",\n",
    "          \"dep\":\"department\"}\n",
    "\n",
    "df.rename(columns=columns, inplace=True)"
   ]
  },
  {
   "cell_type": "code",
   "execution_count": 3,
   "id": "33b05385",
   "metadata": {},
   "outputs": [
    {
     "data": {
      "text/html": [
       "<div>\n",
       "<style scoped>\n",
       "    .dataframe tbody tr th:only-of-type {\n",
       "        vertical-align: middle;\n",
       "    }\n",
       "\n",
       "    .dataframe tbody tr th {\n",
       "        vertical-align: top;\n",
       "    }\n",
       "\n",
       "    .dataframe thead th {\n",
       "        text-align: right;\n",
       "    }\n",
       "</style>\n",
       "<table border=\"1\" class=\"dataframe\">\n",
       "  <thead>\n",
       "    <tr style=\"text-align: right;\">\n",
       "      <th></th>\n",
       "      <th>accident_ID</th>\n",
       "      <th>year</th>\n",
       "      <th>month</th>\n",
       "      <th>day</th>\n",
       "      <th>hour_min</th>\n",
       "      <th>lighting</th>\n",
       "      <th>agg??</th>\n",
       "      <th>intersection</th>\n",
       "      <th>atmosphere</th>\n",
       "      <th>collision</th>\n",
       "      <th>municipality</th>\n",
       "      <th>postal_address</th>\n",
       "      <th>GPS</th>\n",
       "      <th>latitude</th>\n",
       "      <th>longitude</th>\n",
       "      <th>department</th>\n",
       "    </tr>\n",
       "  </thead>\n",
       "  <tbody>\n",
       "    <tr>\n",
       "      <th>0</th>\n",
       "      <td>201600000001</td>\n",
       "      <td>16</td>\n",
       "      <td>2</td>\n",
       "      <td>1</td>\n",
       "      <td>1445</td>\n",
       "      <td>1</td>\n",
       "      <td>2</td>\n",
       "      <td>1</td>\n",
       "      <td>8.0</td>\n",
       "      <td>3.0</td>\n",
       "      <td>5.0</td>\n",
       "      <td>46, rue Sonneville</td>\n",
       "      <td>M</td>\n",
       "      <td>0.0</td>\n",
       "      <td>0.0</td>\n",
       "      <td>590</td>\n",
       "    </tr>\n",
       "    <tr>\n",
       "      <th>1</th>\n",
       "      <td>201600000002</td>\n",
       "      <td>16</td>\n",
       "      <td>3</td>\n",
       "      <td>16</td>\n",
       "      <td>1800</td>\n",
       "      <td>1</td>\n",
       "      <td>2</td>\n",
       "      <td>6</td>\n",
       "      <td>1.0</td>\n",
       "      <td>6.0</td>\n",
       "      <td>5.0</td>\n",
       "      <td>1a rue du cimetière</td>\n",
       "      <td>M</td>\n",
       "      <td>0.0</td>\n",
       "      <td>0.0</td>\n",
       "      <td>590</td>\n",
       "    </tr>\n",
       "    <tr>\n",
       "      <th>2</th>\n",
       "      <td>201600000003</td>\n",
       "      <td>16</td>\n",
       "      <td>7</td>\n",
       "      <td>13</td>\n",
       "      <td>1900</td>\n",
       "      <td>1</td>\n",
       "      <td>1</td>\n",
       "      <td>1</td>\n",
       "      <td>1.0</td>\n",
       "      <td>6.0</td>\n",
       "      <td>11.0</td>\n",
       "      <td>NaN</td>\n",
       "      <td>M</td>\n",
       "      <td>0.0</td>\n",
       "      <td>0.0</td>\n",
       "      <td>590</td>\n",
       "    </tr>\n",
       "    <tr>\n",
       "      <th>3</th>\n",
       "      <td>201600000004</td>\n",
       "      <td>16</td>\n",
       "      <td>8</td>\n",
       "      <td>15</td>\n",
       "      <td>1930</td>\n",
       "      <td>2</td>\n",
       "      <td>2</td>\n",
       "      <td>1</td>\n",
       "      <td>7.0</td>\n",
       "      <td>3.0</td>\n",
       "      <td>477.0</td>\n",
       "      <td>52 rue victor hugo</td>\n",
       "      <td>M</td>\n",
       "      <td>0.0</td>\n",
       "      <td>0.0</td>\n",
       "      <td>590</td>\n",
       "    </tr>\n",
       "    <tr>\n",
       "      <th>4</th>\n",
       "      <td>201600000005</td>\n",
       "      <td>16</td>\n",
       "      <td>12</td>\n",
       "      <td>23</td>\n",
       "      <td>1100</td>\n",
       "      <td>1</td>\n",
       "      <td>2</td>\n",
       "      <td>3</td>\n",
       "      <td>1.0</td>\n",
       "      <td>3.0</td>\n",
       "      <td>11.0</td>\n",
       "      <td>rue Joliot curie</td>\n",
       "      <td>M</td>\n",
       "      <td>0.0</td>\n",
       "      <td>0.0</td>\n",
       "      <td>590</td>\n",
       "    </tr>\n",
       "  </tbody>\n",
       "</table>\n",
       "</div>"
      ],
      "text/plain": [
       "    accident_ID  year  month  day  hour_min  lighting   agg??  intersection  \\\n",
       "0  201600000001    16      2    1      1445          1      2             1   \n",
       "1  201600000002    16      3   16      1800          1      2             6   \n",
       "2  201600000003    16      7   13      1900          1      1             1   \n",
       "3  201600000004    16      8   15      1930          2      2             1   \n",
       "4  201600000005    16     12   23      1100          1      2             3   \n",
       "\n",
       "   atmosphere  collision  municipality       postal_address GPS  latitude  \\\n",
       "0         8.0        3.0           5.0   46, rue Sonneville   M       0.0   \n",
       "1         1.0        6.0           5.0  1a rue du cimetière   M       0.0   \n",
       "2         1.0        6.0          11.0                  NaN   M       0.0   \n",
       "3         7.0        3.0         477.0   52 rue victor hugo   M       0.0   \n",
       "4         1.0        3.0          11.0     rue Joliot curie   M       0.0   \n",
       "\n",
       "  longitude  department  \n",
       "0       0.0         590  \n",
       "1       0.0         590  \n",
       "2       0.0         590  \n",
       "3       0.0         590  \n",
       "4       0.0         590  "
      ]
     },
     "execution_count": 3,
     "metadata": {},
     "output_type": "execute_result"
    }
   ],
   "source": [
    "df.head()"
   ]
  },
  {
   "cell_type": "code",
   "execution_count": 4,
   "id": "ad4de33a",
   "metadata": {},
   "outputs": [
    {
     "name": "stdout",
     "output_type": "stream",
     "text": [
      "<class 'pandas.core.frame.DataFrame'>\n",
      "RangeIndex: 839985 entries, 0 to 839984\n",
      "Data columns (total 16 columns):\n",
      " #   Column          Non-Null Count   Dtype  \n",
      "---  ------          --------------   -----  \n",
      " 0   accident_ID     839985 non-null  int64  \n",
      " 1   year            839985 non-null  int64  \n",
      " 2   month           839985 non-null  int64  \n",
      " 3   day             839985 non-null  int64  \n",
      " 4   hour_min        839985 non-null  int64  \n",
      " 5   lighting        839985 non-null  int64  \n",
      " 6   agg??           839985 non-null  int64  \n",
      " 7   intersection    839985 non-null  int64  \n",
      " 8   atmosphere      839930 non-null  float64\n",
      " 9   collision       839974 non-null  float64\n",
      " 10  municipality    839983 non-null  float64\n",
      " 11  postal_address  699443 non-null  object \n",
      " 12  GPS             366226 non-null  object \n",
      " 13  latitude        362471 non-null  float64\n",
      " 14  longitude       362467 non-null  object \n",
      " 15  department      839985 non-null  int64  \n",
      "dtypes: float64(4), int64(9), object(3)\n",
      "memory usage: 102.5+ MB\n"
     ]
    }
   ],
   "source": [
    "df.info()"
   ]
  },
  {
   "cell_type": "markdown",
   "id": "70eca4c3",
   "metadata": {},
   "source": [
    "### Mapping of feature's values"
   ]
  },
  {
   "cell_type": "code",
   "execution_count": null,
   "id": "4b2f0c00",
   "metadata": {},
   "outputs": [],
   "source": []
  },
  {
   "cell_type": "markdown",
   "id": "1eee9b43",
   "metadata": {},
   "source": [
    "### Checking for missing values"
   ]
  },
  {
   "cell_type": "code",
   "execution_count": 5,
   "id": "71c7005f",
   "metadata": {},
   "outputs": [
    {
     "name": "stdout",
     "output_type": "stream",
     "text": [
      "Percentage of missing values in atmosphere: 0.006547735971475681\n",
      "Percentage of missing values in collision: 0.0013095471942951363\n",
      "Percentage of missing values in municipality: 0.00023809948987184296\n",
      "Percentage of missing values in postal_address: 16.731489252784275\n",
      "Percentage of missing values in GPS: 56.400888111097224\n",
      "Percentage of missing values in latitude: 56.847919903331615\n",
      "Percentage of missing values in longitude: 56.84839610231135\n"
     ]
    }
   ],
   "source": [
    "def check_missing_val(df):\n",
    "    for column in df.columns:\n",
    "        null_count = df.isnull()[column].sum()\n",
    "\n",
    "        # Skips over complete coloumns\n",
    "        if null_count == 0:\n",
    "            continue\n",
    "\n",
    "        total_count = df[column].shape[0]\n",
    "        percentage = (null_count / total_count) * 100\n",
    "\n",
    "        print(f'Percentage of missing values in {column}: {percentage}')\n",
    "    \n",
    "check_missing_val(df)"
   ]
  },
  {
   "cell_type": "code",
   "execution_count": 7,
   "id": "d9f72dd3",
   "metadata": {},
   "outputs": [
    {
     "data": {
      "image/png": "[encoded data removed]",
      "text/plain": [
       "<Figure size 720x360 with 1 Axes>"
      ]
     },
     "metadata": {
      "needs_background": "light"
     },
     "output_type": "display_data"
    }
   ],
   "source": [
    "plt.figure(figsize=(10,5))\n",
    "sns.heatmap(df.isnull(), yticklabels=False, cbar=False)\n",
    "plt.show()"
   ]
  },
  {
   "cell_type": "markdown",
   "id": "09d91abb",
   "metadata": {},
   "source": [
    "### Handling missing values"
   ]
  },
  {
   "cell_type": "code",
   "execution_count": 8,
   "id": "e03d116c",
   "metadata": {},
   "outputs": [],
   "source": [
    "# The Lattitude, Longitude and GPS columns can be dropped, as there have over 50% missing values\n",
    "df.drop(columns=['GPS', 'latitude', 'longitude'], inplace=True)"
   ]
  },
  {
   "cell_type": "code",
   "execution_count": 9,
   "id": "c63fe5be",
   "metadata": {},
   "outputs": [],
   "source": [
    "# Others can be filled with the mode\n",
    "df['atmosphere'].fillna(value=df['atmosphere'].mode()[0], inplace=True)\n",
    "df['collision'].fillna(value=df['collision'].mode()[0], inplace=True)\n",
    "df['municipality'].fillna(value=df['municipality'].mode()[0], inplace=True)\n",
    "df['postal_address'].fillna(value=df['postal_address'].mode()[0], inplace=True)\n",
    "\n",
    "check_missing_val(df)"
   ]
  },
  {
   "cell_type": "markdown",
   "id": "61dac611",
   "metadata": {},
   "source": [
    "# Visualizations"
   ]
  },
  {
   "cell_type": "code",
   "execution_count": null,
   "id": "fd7e4330",
   "metadata": {},
   "outputs": [],
   "source": []
  }
 ],
 "metadata": {
  "kernelspec": {
   "display_name": "Python 3",
   "language": "python",
   "name": "python3"
  },
  "language_info": {
   "codemirror_mode": {
    "name": "ipython",
    "version": 3
   },
   "file_extension": ".py",
   "mimetype": "text/x-python",
   "name": "python",
   "nbconvert_exporter": "python",
   "pygments_lexer": "ipython3",
   "version": "3.9.1"
  }
 },
 "nbformat": 4,
 "nbformat_minor": 5
}
